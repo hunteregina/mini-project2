{
 "cells": [
  {
   "cell_type": "code",
   "execution_count": 1,
   "metadata": {},
   "outputs": [
    {
     "name": "stdout",
     "output_type": "stream",
     "text": [
      "Zoltar welcomes you! Try guessing the number I am thinking about between 1 and 63:55\n",
      "Aspire for greatness, try again!\n",
      "\n",
      "Zoltar welcomes you! Try guessing the number I am thinking about between 1 and 63:56\n",
      "You've got it Nostradamus!\n"
     ]
    }
   ],
   "source": [
    "import random\n",
    "\n",
    "number = random.randrange(1, 63)\n",
    "player_attempt = int(input(\"Zoltar welcomes you! Try guessing the number I am thinking about between 1 and 63:\"))\n",
    "while player_attempt != number:\n",
    "    if player_attempt > number:\n",
    "        print(\"Lower your expectations and try again.\")\n",
    "        player_attempt = int(input(\"\\nZoltar welcomes you! Try guessing the number I am thinking about between 1 and 63:\"))\n",
    "    elif player_attempt > number:\n",
    "        print(\"Less is better, try again.\")\n",
    "        player_attempt = int(input(\"\\nZoltar welcomes you! Try guessing the number I am thinking about between 1 and 63:\"))\n",
    "    #if player_attempt < number:\n",
    "    else:   \n",
    "        print(\"Aspire for greatness, try again!\")\n",
    "        player_attempt = int(input(\"\\nZoltar welcomes you! Try guessing the number I am thinking about between 1 and 63:\")) \n",
    "    #elif player_attempt:\n",
    "       # print(\"Good things come to those who dream big. Try again!\")\n",
    "       # player_attempt = int(input(\"\\nZoltar welcomes you! Try guessing the number I am thinking about between 1 and 63:\"))\n",
    "print(\"You've got it Nostradamus!\")"
   ]
  },
  {
   "cell_type": "code",
   "execution_count": null,
   "metadata": {},
   "outputs": [],
   "source": [
    "\n"
   ]
  },
  {
   "cell_type": "code",
   "execution_count": null,
   "metadata": {},
   "outputs": [],
   "source": []
  }
 ],
 "metadata": {
  "kernelspec": {
   "display_name": "Python 3",
   "language": "python",
   "name": "python3"
  },
  "language_info": {
   "codemirror_mode": {
    "name": "ipython",
    "version": 3
   },
   "file_extension": ".py",
   "mimetype": "text/x-python",
   "name": "python",
   "nbconvert_exporter": "python",
   "pygments_lexer": "ipython3",
   "version": "3.8.3"
  }
 },
 "nbformat": 4,
 "nbformat_minor": 4
}
